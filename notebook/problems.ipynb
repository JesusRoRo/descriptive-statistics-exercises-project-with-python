{
 "cells": [
  {
   "cell_type": "markdown",
   "id": "ac622319",
   "metadata": {},
   "source": [
    "# Descriptive statistics problems"
   ]
  },
  {
   "cell_type": "markdown",
   "id": "5e0ab0d5",
   "metadata": {},
   "source": [
    "### Exercise 1\n",
    "\n",
    "We will use NumPy to obtain information to describe statistically.\n",
    "\n",
    "- Generate an array of 100 elements following a normal distribution.\n",
    "- Generate an array of 100 elements following a chi-square distribution with 3 degrees of freedom.\n",
    "- Calculate the main metrics and statistical measures that best describe the two vectors."
   ]
  },
  {
   "cell_type": "code",
   "execution_count": 20,
   "id": "34720ab6",
   "metadata": {},
   "outputs": [
    {
     "name": "stdout",
     "output_type": "stream",
     "text": [
      "The mean of the normal array is: -0.06402890509651792\n",
      "The mean of the chi-square array is: 3.1309145299020815\n",
      "\n",
      "The median of the normal array is: -0.1507412225476079\n",
      "The median of the chi-square array is: 2.3795722831441726\n",
      "\n",
      "The mode of the normal array is: -0.8108523300332128\n",
      "The mode of the chi-square array is: 4.748598578473032\n",
      "\n",
      "The range of the normal array is: 4.516921835785126\n",
      "The range of the chi-square array is: 15.451536723212971\n",
      "\n",
      "The variance of the normal array is: 1.0922223733794387\n",
      "The variance of the chi-square array is: 6.80067620110823\n",
      "\n",
      "The standar deviation of the normal array is: 1.0450944327568867\n",
      "The standar deviation of the chi-square array is: 2.607810614501795\n",
      "\n",
      "Skewness of normal distribution array: 0.29667931333033043\n",
      "Skewness of chi-square array: 1.7526673957336458\n",
      "\n",
      "Kurtosis of normal distribution array: -0.43795014303919233\n",
      "Kurtosis of chi-square array: 4.483773524416405\n",
      "\n"
     ]
    }
   ],
   "source": [
    "# TODO\n",
    "import numpy as np\n",
    "import statistics as stats\n",
    "from scipy.stats import skew, kurtosis\n",
    "\n",
    "#Normal distribution array\n",
    "norm_array = np.random.normal(size = 100)\n",
    "\n",
    "#Chi-Square distribution array\n",
    "chisqr_array = np.random.chisquare(3, 100)\n",
    "\n",
    "#Mean of both arrays\n",
    "print(f\"The mean of the normal array is: {stats.mean(norm_array)}\")\n",
    "print(f\"The mean of the chi-square array is: {stats.mean(chisqr_array)}\\n\")\n",
    "\n",
    "#Median of both arrays\n",
    "print(f\"The median of the normal array is: {stats.median(norm_array)}\")\n",
    "print(f\"The median of the chi-square array is: {stats.median(chisqr_array)}\\n\")\n",
    "\n",
    "#Mode of both arrays\n",
    "print(f\"The mode of the normal array is: {stats.mode(norm_array)}\")\n",
    "print(f\"The mode of the chi-square array is: {stats.mode(chisqr_array)}\\n\")\n",
    "\n",
    "#Range of both arrays\n",
    "print(f\"The range of the normal array is: {max(norm_array) - min(norm_array)}\")\n",
    "print(f\"The range of the chi-square array is: {max(chisqr_array) - min(chisqr_array)}\\n\")\n",
    "\n",
    "#Variance of both arrays\n",
    "print(f\"The variance of the normal array is: {stats.variance(norm_array)}\")\n",
    "print(f\"The variance of the chi-square array is: {stats.variance(chisqr_array)}\\n\")\n",
    "\n",
    "#Standar deviation of both arrays\n",
    "print(f\"The standar deviation of the normal array is: {stats.stdev(norm_array)}\")\n",
    "print(f\"The standar deviation of the chi-square array is: {stats.stdev(chisqr_array)}\\n\")\n",
    "\n",
    "#Skewness of both arrays\n",
    "print(f\"Skewness of normal distribution array: {skew(norm_array)}\")\n",
    "print(f\"Skewness of chi-square array: {skew(chisqr_array)}\\n\")\n",
    "\n",
    "#Kurtosis of both arrays\n",
    "print(f\"Kurtosis of normal distribution array: {kurtosis(norm_array)}\")\n",
    "print(f\"Kurtosis of chi-square array: {kurtosis(chisqr_array)}\\n\")\n"
   ]
  },
  {
   "cell_type": "markdown",
   "id": "46c70c3d",
   "metadata": {},
   "source": [
    "### Exercise 2\n",
    "\n",
    "Write a Python program to calculate the standard deviation of the following data:\n",
    "\n",
    "```py\n",
    "data = [4, 2, 5, 8, 6]\n",
    "```"
   ]
  },
  {
   "cell_type": "code",
   "execution_count": 59,
   "id": "d590308e",
   "metadata": {},
   "outputs": [
    {
     "name": "stdout",
     "output_type": "stream",
     "text": [
      "The standard deviation of the data provided is: 2.23606797749979\n",
      "2.23606797749979\n"
     ]
    }
   ],
   "source": [
    "# TODO\n",
    "import math\n",
    "\n",
    "data = [4, 2, 5, 8, 6]\n",
    "\n",
    "def std_deviation(data):\n",
    "    #Calculate the mean of the data first\n",
    "    data_mean = sum(data) / len(data)\n",
    "\n",
    "    #Obtain the variance from the mean\n",
    "    #Need to divide all with (len(data) - 1) because if we do only len(data) is another formula, not the same as stats library uses and the result would be different\n",
    "    #This correction was made after comparing the results and searching for the solution\n",
    "    data_var = sum((i - data_mean) ** 2 for i in data) / (len(data) - 1) \n",
    "\n",
    "    #Calculate the square root of the data variance to obtain the standard deviation\n",
    "    data_std =  math.sqrt(data_var)\n",
    "\n",
    "    return data_std\n",
    "\n",
    "print(f\"The standard deviation of the data provided is: {std_deviation(data)}\")\n",
    "print(stats.stdev(data))"
   ]
  }
 ],
 "metadata": {
  "kernelspec": {
   "display_name": "Python 3",
   "language": "python",
   "name": "python3"
  },
  "language_info": {
   "codemirror_mode": {
    "name": "ipython",
    "version": 3
   },
   "file_extension": ".py",
   "mimetype": "text/x-python",
   "name": "python",
   "nbconvert_exporter": "python",
   "pygments_lexer": "ipython3",
   "version": "3.11.4"
  }
 },
 "nbformat": 4,
 "nbformat_minor": 5
}
